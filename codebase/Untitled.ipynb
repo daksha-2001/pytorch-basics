{
 "cells": [
  {
   "cell_type": "code",
   "execution_count": 1,
   "id": "8522fecb",
   "metadata": {},
   "outputs": [],
   "source": [
    "import torch\n",
    "import numpy as np\n",
    "import os"
   ]
  },
  {
   "cell_type": "code",
   "execution_count": 2,
   "id": "45a39695",
   "metadata": {},
   "outputs": [],
   "source": [
    "x=torch.arange(start=1,end=10,step=4)\n",
    "y=torch.arange(start=5,end=15,step=4)"
   ]
  },
  {
   "cell_type": "code",
   "execution_count": 3,
   "id": "048b9547",
   "metadata": {},
   "outputs": [
    {
     "data": {
      "text/plain": [
       "tensor([[0.5697, 0.2626, 0.6464],\n",
       "        [0.4445, 0.0119, 0.7035],\n",
       "        [0.2831, 0.2052, 0.3429]])"
      ]
     },
     "execution_count": 3,
     "metadata": {},
     "output_type": "execute_result"
    }
   ],
   "source": [
    "A=torch.rand((3,3))\n",
    "A"
   ]
  },
  {
   "cell_type": "code",
   "execution_count": 4,
   "id": "8dee6734",
   "metadata": {},
   "outputs": [
    {
     "data": {
      "text/plain": [
       "tensor([[1.2000e+01, 2.6256e-01, 6.4641e-01],\n",
       "        [4.4445e-01, 1.1922e-02, 7.0347e-01],\n",
       "        [2.8306e-01, 2.0524e-01, 3.4287e-01]])"
      ]
     },
     "execution_count": 4,
     "metadata": {},
     "output_type": "execute_result"
    }
   ],
   "source": [
    "A[0,0]=12\n",
    "A"
   ]
  },
  {
   "cell_type": "code",
   "execution_count": 5,
   "id": "c4e71329",
   "metadata": {},
   "outputs": [
    {
     "data": {
      "text/plain": [
       "(torch.Size([3]), torch.Size([3]))"
      ]
     },
     "execution_count": 5,
     "metadata": {},
     "output_type": "execute_result"
    }
   ],
   "source": [
    "x.shape,y.shape"
   ]
  },
  {
   "cell_type": "code",
   "execution_count": 6,
   "id": "83f6a171",
   "metadata": {},
   "outputs": [
    {
     "data": {
      "text/plain": [
       "tensor([ 6, 14, 22])"
      ]
     },
     "execution_count": 6,
     "metadata": {},
     "output_type": "execute_result"
    }
   ],
   "source": [
    "x+y"
   ]
  },
  {
   "cell_type": "code",
   "execution_count": 7,
   "id": "2446c37e",
   "metadata": {},
   "outputs": [
    {
     "data": {
      "text/plain": [
       "tensor([[0.1559, 0.2944, 0.4970],\n",
       "        [0.7016, 0.4627, 0.4603],\n",
       "        [0.7778, 0.9172, 0.7999]])"
      ]
     },
     "execution_count": 7,
     "metadata": {},
     "output_type": "execute_result"
    }
   ],
   "source": [
    "A=torch.rand(size=(3,3))\n",
    "A"
   ]
  },
  {
   "cell_type": "code",
   "execution_count": 8,
   "id": "e627bb2a",
   "metadata": {},
   "outputs": [
    {
     "data": {
      "text/plain": [
       "tensor([[1.7405, 0.8951, 1.0973],\n",
       "        [1.4869, 2.2834, 1.3395],\n",
       "        [2.0997, 2.2557, 3.1977]])"
      ]
     },
     "execution_count": 8,
     "metadata": {},
     "output_type": "execute_result"
    }
   ],
   "source": [
    "A.matrix_exp()"
   ]
  },
  {
   "cell_type": "code",
   "execution_count": 9,
   "id": "ba8e7f98",
   "metadata": {},
   "outputs": [],
   "source": [
    "a=torch.rand((3,5))"
   ]
  },
  {
   "cell_type": "code",
   "execution_count": 10,
   "id": "a3ea9c37",
   "metadata": {},
   "outputs": [
    {
     "data": {
      "text/plain": [
       "tensor([[0.7490, 0.0957, 0.0493, 0.6459, 0.3282],\n",
       "        [0.7088, 0.4812, 0.5164, 0.9787, 0.0287],\n",
       "        [0.2114, 0.4932, 0.3663, 0.7667, 0.2950]])"
      ]
     },
     "execution_count": 10,
     "metadata": {},
     "output_type": "execute_result"
    }
   ],
   "source": [
    "a"
   ]
  },
  {
   "cell_type": "code",
   "execution_count": 11,
   "id": "fca1c7f1",
   "metadata": {},
   "outputs": [],
   "source": [
    "b=torch.zeros((1,5))"
   ]
  },
  {
   "cell_type": "code",
   "execution_count": 12,
   "id": "991f4a7a",
   "metadata": {},
   "outputs": [
    {
     "data": {
      "text/plain": [
       "tensor([[0., 0., 0., 0., 0.]])"
      ]
     },
     "execution_count": 12,
     "metadata": {},
     "output_type": "execute_result"
    }
   ],
   "source": [
    "b"
   ]
  },
  {
   "cell_type": "code",
   "execution_count": 13,
   "id": "5185d7ed",
   "metadata": {},
   "outputs": [
    {
     "data": {
      "text/plain": [
       "tensor([[0.7490, 0.0957, 0.0493, 0.6459, 0.3282],\n",
       "        [0.7088, 0.4812, 0.5164, 0.9787, 0.0287],\n",
       "        [0.2114, 0.4932, 0.3663, 0.7667, 0.2950]])"
      ]
     },
     "execution_count": 13,
     "metadata": {},
     "output_type": "execute_result"
    }
   ],
   "source": [
    "a-b"
   ]
  },
  {
   "cell_type": "code",
   "execution_count": 14,
   "id": "a3433416",
   "metadata": {},
   "outputs": [
    {
     "data": {
      "text/plain": [
       "-0.15859999999999996"
      ]
     },
     "execution_count": 14,
     "metadata": {},
     "output_type": "execute_result"
    }
   ],
   "source": [
    "0.8414-1"
   ]
  },
  {
   "cell_type": "code",
   "execution_count": null,
   "id": "3ed181ac",
   "metadata": {},
   "outputs": [],
   "source": []
  },
  {
   "cell_type": "code",
   "execution_count": 15,
   "id": "45058703",
   "metadata": {},
   "outputs": [],
   "source": [
    "x=torch.tensor(5.0,requires_grad=True)\n",
    "y=torch.tensor(5.0,requires_grad=True)"
   ]
  },
  {
   "cell_type": "code",
   "execution_count": 16,
   "id": "990199fc",
   "metadata": {},
   "outputs": [],
   "source": [
    "f=x**2+y**2"
   ]
  },
  {
   "cell_type": "code",
   "execution_count": 18,
   "id": "74a65e2e",
   "metadata": {},
   "outputs": [],
   "source": [
    "f.backward()"
   ]
  },
  {
   "cell_type": "code",
   "execution_count": 20,
   "id": "ce7adeef",
   "metadata": {},
   "outputs": [
    {
     "data": {
      "text/plain": [
       "<AddBackward0 at 0x1f53d94f8c8>"
      ]
     },
     "execution_count": 20,
     "metadata": {},
     "output_type": "execute_result"
    }
   ],
   "source": [
    "f.grad_fn"
   ]
  },
  {
   "cell_type": "code",
   "execution_count": 21,
   "id": "811e3bf5",
   "metadata": {},
   "outputs": [
    {
     "data": {
      "text/plain": [
       "tensor(10.)"
      ]
     },
     "execution_count": 21,
     "metadata": {},
     "output_type": "execute_result"
    }
   ],
   "source": [
    "x.grad"
   ]
  },
  {
   "cell_type": "code",
   "execution_count": 22,
   "id": "29549969",
   "metadata": {},
   "outputs": [
    {
     "data": {
      "text/plain": [
       "tensor(10.)"
      ]
     },
     "execution_count": 22,
     "metadata": {},
     "output_type": "execute_result"
    }
   ],
   "source": [
    "y.grad"
   ]
  },
  {
   "cell_type": "code",
   "execution_count": 23,
   "id": "20fa8c34",
   "metadata": {},
   "outputs": [],
   "source": [
    "f2=x**2*y**2"
   ]
  },
  {
   "cell_type": "code",
   "execution_count": 24,
   "id": "04614375",
   "metadata": {},
   "outputs": [],
   "source": [
    "f2.backward()"
   ]
  },
  {
   "cell_type": "code",
   "execution_count": 25,
   "id": "fcb6eff8",
   "metadata": {},
   "outputs": [
    {
     "data": {
      "text/plain": [
       "<MulBackward0 at 0x1f53d9ed6c8>"
      ]
     },
     "execution_count": 25,
     "metadata": {},
     "output_type": "execute_result"
    }
   ],
   "source": [
    "f2.grad_fn"
   ]
  },
  {
   "cell_type": "code",
   "execution_count": 26,
   "id": "fb23630e",
   "metadata": {},
   "outputs": [
    {
     "data": {
      "text/plain": [
       "tensor(260.)"
      ]
     },
     "execution_count": 26,
     "metadata": {},
     "output_type": "execute_result"
    }
   ],
   "source": [
    "x.grad"
   ]
  },
  {
   "cell_type": "code",
   "execution_count": 27,
   "id": "5d3235c8",
   "metadata": {},
   "outputs": [
    {
     "data": {
      "text/plain": [
       "tensor(5., requires_grad=True)"
      ]
     },
     "execution_count": 27,
     "metadata": {},
     "output_type": "execute_result"
    }
   ],
   "source": [
    "x"
   ]
  },
  {
   "cell_type": "code",
   "execution_count": 28,
   "id": "bdc7471e",
   "metadata": {},
   "outputs": [
    {
     "data": {
      "text/plain": [
       "tensor(260.)"
      ]
     },
     "execution_count": 28,
     "metadata": {},
     "output_type": "execute_result"
    }
   ],
   "source": [
    "y.grad"
   ]
  },
  {
   "cell_type": "code",
   "execution_count": 29,
   "id": "574f8e65",
   "metadata": {},
   "outputs": [],
   "source": [
    "f3 = x**2 + 1"
   ]
  },
  {
   "cell_type": "code",
   "execution_count": 36,
   "id": "e4b6a8e4",
   "metadata": {},
   "outputs": [],
   "source": [
    "f7.backward()"
   ]
  },
  {
   "cell_type": "code",
   "execution_count": 37,
   "id": "1ed66fc0",
   "metadata": {},
   "outputs": [
    {
     "data": {
      "text/plain": [
       "tensor(355.)"
      ]
     },
     "execution_count": 37,
     "metadata": {},
     "output_type": "execute_result"
    }
   ],
   "source": [
    "x.grad"
   ]
  },
  {
   "cell_type": "code",
   "execution_count": 35,
   "id": "271eca11",
   "metadata": {},
   "outputs": [],
   "source": [
    "f7 = x**3 + 1"
   ]
  },
  {
   "cell_type": "code",
   "execution_count": 38,
   "id": "c83895e8",
   "metadata": {},
   "outputs": [
    {
     "data": {
      "text/plain": [
       "15"
      ]
     },
     "execution_count": 38,
     "metadata": {},
     "output_type": "execute_result"
    }
   ],
   "source": [
    "3*5"
   ]
  },
  {
   "cell_type": "code",
   "execution_count": 40,
   "id": "a720ae97",
   "metadata": {},
   "outputs": [
    {
     "data": {
      "text/plain": [
       "75"
      ]
     },
     "execution_count": 40,
     "metadata": {},
     "output_type": "execute_result"
    }
   ],
   "source": [
    "3*25"
   ]
  },
  {
   "cell_type": "code",
   "execution_count": 41,
   "id": "245a8a4a",
   "metadata": {},
   "outputs": [
    {
     "data": {
      "text/plain": [
       "355"
      ]
     },
     "execution_count": 41,
     "metadata": {},
     "output_type": "execute_result"
    }
   ],
   "source": [
    "280+75"
   ]
  },
  {
   "cell_type": "code",
   "execution_count": 55,
   "id": "8f13d9f9",
   "metadata": {},
   "outputs": [],
   "source": [
    "from torch.autograd import grad\n",
    "\n",
    "def nth_derivative(f, wrt, n=2):\n",
    "    \n",
    "    for i in range(n):\n",
    "        grads = grad(f, wrt, create_graph=True)\n",
    "        print(\"g\",grads)\n",
    "        grads=grads[0]\n",
    "\n",
    "        \n",
    "    return grads"
   ]
  },
  {
   "cell_type": "code",
   "execution_count": 56,
   "id": "8b759497",
   "metadata": {},
   "outputs": [
    {
     "name": "stdout",
     "output_type": "stream",
     "text": [
      "g (tensor(85., grad_fn=<AddBackward0>),)\n",
      "g (tensor(85., grad_fn=<AddBackward0>),)\n"
     ]
    },
    {
     "data": {
      "text/plain": [
       "tensor(85., grad_fn=<AddBackward0>)"
      ]
     },
     "execution_count": 56,
     "metadata": {},
     "output_type": "execute_result"
    }
   ],
   "source": [
    "f = x**2 + x**3\n",
    "\n",
    "# double derivative\n",
    "nth_derivative(f, x)"
   ]
  },
  {
   "cell_type": "code",
   "execution_count": 48,
   "id": "5f54ff12",
   "metadata": {},
   "outputs": [
    {
     "data": {
      "text/plain": [
       "75"
      ]
     },
     "execution_count": 48,
     "metadata": {},
     "output_type": "execute_result"
    }
   ],
   "source": [
    "3*25"
   ]
  },
  {
   "cell_type": "code",
   "execution_count": null,
   "id": "fed2ccb5",
   "metadata": {},
   "outputs": [],
   "source": []
  }
 ],
 "metadata": {
  "kernelspec": {
   "display_name": "Python 3 (ipykernel)",
   "language": "python",
   "name": "python3"
  },
  "language_info": {
   "codemirror_mode": {
    "name": "ipython",
    "version": 3
   },
   "file_extension": ".py",
   "mimetype": "text/x-python",
   "name": "python",
   "nbconvert_exporter": "python",
   "pygments_lexer": "ipython3",
   "version": "3.7.16"
  }
 },
 "nbformat": 4,
 "nbformat_minor": 5
}
