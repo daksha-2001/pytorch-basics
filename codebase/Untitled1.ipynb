{
 "cells": [
  {
   "cell_type": "code",
   "execution_count": 1,
   "id": "25323d3b",
   "metadata": {},
   "outputs": [],
   "source": [
    "import os\n",
    "import numpy as np\n",
    "import matplotlib.pyplot as plt\n",
    "import pandas as pd\n",
    "import seaborn as sns\n",
    "import torch\n",
    "import torch.nn as nn\n",
    "from torch.utils.data import DataLoader\n",
    "from torchvision import transforms, datasets\n",
    "import torch.nn.functional as F\n",
    "from sklearn.metrics import confusion_matrix\n",
    "from tqdm import tqdm"
   ]
  },
  {
   "cell_type": "code",
   "execution_count": 101,
   "id": "84ffbc35",
   "metadata": {},
   "outputs": [],
   "source": [
    "root_dir='FashionMnist'\n",
    "\n",
    "train_data=datasets.FashionMNIST(\n",
    "            root=root_dir,\n",
    "            train=True,\n",
    "            transform=transforms.ToTensor(),\n",
    "            download=True)\n",
    "\n",
    "test_data=datasets.FashionMNIST(\n",
    "            root=root_dir,\n",
    "            train=False,\n",
    "            transform=transforms.ToTensor(),\n",
    "            download=True)"
   ]
  },
  {
   "cell_type": "code",
   "execution_count": 102,
   "id": "273984bf",
   "metadata": {},
   "outputs": [
    {
     "name": "stderr",
     "output_type": "stream",
     "text": [
      "C:\\Users\\uchag\\anaconda3\\lib\\site-packages\\torchvision\\datasets\\mnist.py:70: UserWarning: test_labels has been renamed targets\n",
      "  warnings.warn(\"test_labels has been renamed targets\")\n"
     ]
    },
    {
     "data": {
      "text/plain": [
       "2"
      ]
     },
     "execution_count": 102,
     "metadata": {},
     "output_type": "execute_result"
    }
   ],
   "source": [
    "test_data.test_labels[1].item()"
   ]
  },
  {
   "cell_type": "code",
   "execution_count": 103,
   "id": "f9420bac",
   "metadata": {},
   "outputs": [],
   "source": [
    "label_map = {\n",
    "    0: 'T-shirt/top',\n",
    "    1: 'Trouser',\n",
    "    2: 'Pullover',\n",
    "    3:' Dress',\n",
    "    4: 'Coat',\n",
    "    5: 'Sandal',\n",
    "    6: 'Shirt',\n",
    "    7: 'Sneaker',\n",
    "    8: 'Bag',\n",
    "    9: 'Ankle boot',\n",
    "    }"
   ]
  },
  {
   "cell_type": "code",
   "execution_count": 18,
   "id": "7ce2a874",
   "metadata": {},
   "outputs": [],
   "source": [
    "def img_view(data,index,label):\n",
    "    plt.imshow(data.train_data[index],cmap='gray')\n",
    "    plt.title(f'data label:{label[data.targets[index].item()]} ')\n",
    "    "
   ]
  },
  {
   "cell_type": "code",
   "execution_count": 19,
   "id": "6c6a5d3b",
   "metadata": {},
   "outputs": [
    {
     "data": {
      "image/png": "[encoded data removed]",
      "text/plain": [
       "<Figure size 640x480 with 1 Axes>"
      ]
     },
     "metadata": {},
     "output_type": "display_data"
    }
   ],
   "source": [
    "img_view(train_data,1,label_map)"
   ]
  },
  {
   "cell_type": "code",
   "execution_count": 104,
   "id": "644166c5",
   "metadata": {},
   "outputs": [],
   "source": [
    "batch=64\n",
    "\n",
    "train_data_loader=DataLoader(dataset=train_data,\n",
    "                            batch_size=batch,\n",
    "                            shuffle=True)\n",
    "test_data_loader=DataLoader(dataset=test_data,\n",
    "                            batch_size=batch,\n",
    "                            shuffle=True)"
   ]
  },
  {
   "cell_type": "code",
   "execution_count": 105,
   "id": "1955585b",
   "metadata": {},
   "outputs": [
    {
     "name": "stdout",
     "output_type": "stream",
     "text": [
      "torch.Size([64, 1, 28, 28])\n"
     ]
    }
   ],
   "source": [
    "for x,y in train_data_loader:\n",
    "    print(x.shape)\n",
    "    break"
   ]
  },
  {
   "cell_type": "code",
   "execution_count": 106,
   "id": "1f812ce4",
   "metadata": {},
   "outputs": [],
   "source": [
    "device='cuda' if torch.cuda.is_available else \"cpu\""
   ]
  },
  {
   "cell_type": "code",
   "execution_count": 107,
   "id": "9882e4e0",
   "metadata": {},
   "outputs": [],
   "source": [
    "class CNN(nn.Module):\n",
    "    def __init__(self,in_,out_):\n",
    "        super().__init__()\n",
    "        \n",
    "        self.conv_pool_01=nn.Sequential(\n",
    "        nn.Conv2d(in_channels=in_,stride=1,padding=0,kernel_size=5,out_channels=8),\n",
    "        nn.ReLU(),\n",
    "        nn.MaxPool2d(kernel_size=2,stride=2)\n",
    "        )\n",
    "        self.conv_pool_02=nn.Sequential(\n",
    "        nn.Conv2d(in_channels=8,stride=1,padding=0,out_channels=16,kernel_size=5),\n",
    "        nn.ReLU(),\n",
    "        nn.MaxPool2d(kernel_size=2,stride=2)\n",
    "        )\n",
    "        self.flatten=nn.Flatten()\n",
    "        self.FC_01=nn.Linear(in_features=16*4*4,out_features=128)\n",
    "        self.FC_02=nn.Linear(in_features=128,out_features=64)\n",
    "        self.FC_03=nn.Linear(in_features=64,out_features=out_)\n",
    "        \n",
    "    def forward(self,x):\n",
    "        x=self.conv_pool_01(x)\n",
    "        x=self.conv_pool_02(x)\n",
    "        x=self.flatten(x)\n",
    "        x=self.FC_01(x)\n",
    "        x=self.FC_02(x)\n",
    "        x=self.FC_03(x)\n",
    "        return x\n",
    "        \n",
    "        "
   ]
  },
  {
   "cell_type": "code",
   "execution_count": 108,
   "id": "b9525ba8",
   "metadata": {},
   "outputs": [],
   "source": [
    "class CNN(nn.Module):\n",
    "    def __init__(self, in_, out_):\n",
    "        super(CNN, self).__init__()\n",
    "        \n",
    "        self.conv_pool_01 = nn.Sequential(\n",
    "            nn.Conv2d(in_channels=in_, out_channels=8, kernel_size=5, stride=1, padding=0),\n",
    "            nn.ReLU(),\n",
    "            nn.MaxPool2d(kernel_size=2, stride=2)\n",
    "        )\n",
    "        \n",
    "        self.conv_pool_02 = nn.Sequential(\n",
    "            nn.Conv2d(in_channels=8, out_channels=16, kernel_size=5, stride=1, padding=0),\n",
    "            nn.ReLU(),\n",
    "            nn.MaxPool2d(kernel_size=2, stride=2)\n",
    "        )\n",
    "        \n",
    "        self.flatten = nn.Flatten()\n",
    "        self.FC_01 = nn.Linear(in_features=16*4*4, out_features=128)\n",
    "        self.FC_02 = nn.Linear(in_features=128, out_features=64)\n",
    "        self.FC_03 = nn.Linear(in_features=64, out_features=out_)\n",
    "        \n",
    "    \n",
    "    def forward(self, x):\n",
    "        x = self.conv_pool_01(x)\n",
    "        x = self.conv_pool_02(x)\n",
    "        x = self.flatten(x)\n",
    "        x = self.FC_01(x)\n",
    "        x = self.FC_02(x)        \n",
    "        x = self.FC_03(x)\n",
    "        return x"
   ]
  },
  {
   "cell_type": "code",
   "execution_count": 109,
   "id": "65e7a434",
   "metadata": {},
   "outputs": [
    {
     "data": {
      "text/plain": [
       "CNN(\n",
       "  (conv_pool_01): Sequential(\n",
       "    (0): Conv2d(1, 8, kernel_size=(5, 5), stride=(1, 1))\n",
       "    (1): ReLU()\n",
       "    (2): MaxPool2d(kernel_size=2, stride=2, padding=0, dilation=1, ceil_mode=False)\n",
       "  )\n",
       "  (conv_pool_02): Sequential(\n",
       "    (0): Conv2d(8, 16, kernel_size=(5, 5), stride=(1, 1))\n",
       "    (1): ReLU()\n",
       "    (2): MaxPool2d(kernel_size=2, stride=2, padding=0, dilation=1, ceil_mode=False)\n",
       "  )\n",
       "  (flatten): Flatten(start_dim=1, end_dim=-1)\n",
       "  (FC_01): Linear(in_features=256, out_features=128, bias=True)\n",
       "  (FC_02): Linear(in_features=128, out_features=64, bias=True)\n",
       "  (FC_03): Linear(in_features=64, out_features=10, bias=True)\n",
       ")"
      ]
     },
     "execution_count": 109,
     "metadata": {},
     "output_type": "execute_result"
    }
   ],
   "source": [
    "model=CNN(1,10)\n",
    "model.to(device)"
   ]
  },
  {
   "cell_type": "code",
   "execution_count": 110,
   "id": "6f8d746c",
   "metadata": {},
   "outputs": [
    {
     "data": {
      "text/html": [
       "<style type=\"text/css\">\n",
       "</style>\n",
       "<table id=\"T_652c1\">\n",
       "  <caption>Total trainable parameters: 45226</caption>\n",
       "  <thead>\n",
       "    <tr>\n",
       "      <th class=\"blank level0\" >&nbsp;</th>\n",
       "      <th id=\"T_652c1_level0_col0\" class=\"col_heading level0 col0\" >Modules</th>\n",
       "      <th id=\"T_652c1_level0_col1\" class=\"col_heading level0 col1\" >Parameters</th>\n",
       "    </tr>\n",
       "  </thead>\n",
       "  <tbody>\n",
       "    <tr>\n",
       "      <th id=\"T_652c1_level0_row0\" class=\"row_heading level0 row0\" >0</th>\n",
       "      <td id=\"T_652c1_row0_col0\" class=\"data row0 col0\" >conv_pool_01.0.weight</td>\n",
       "      <td id=\"T_652c1_row0_col1\" class=\"data row0 col1\" >200</td>\n",
       "    </tr>\n",
       "    <tr>\n",
       "      <th id=\"T_652c1_level0_row1\" class=\"row_heading level0 row1\" >1</th>\n",
       "      <td id=\"T_652c1_row1_col0\" class=\"data row1 col0\" >conv_pool_01.0.bias</td>\n",
       "      <td id=\"T_652c1_row1_col1\" class=\"data row1 col1\" >8</td>\n",
       "    </tr>\n",
       "    <tr>\n",
       "      <th id=\"T_652c1_level0_row2\" class=\"row_heading level0 row2\" >2</th>\n",
       "      <td id=\"T_652c1_row2_col0\" class=\"data row2 col0\" >conv_pool_02.0.weight</td>\n",
       "      <td id=\"T_652c1_row2_col1\" class=\"data row2 col1\" >3200</td>\n",
       "    </tr>\n",
       "    <tr>\n",
       "      <th id=\"T_652c1_level0_row3\" class=\"row_heading level0 row3\" >3</th>\n",
       "      <td id=\"T_652c1_row3_col0\" class=\"data row3 col0\" >conv_pool_02.0.bias</td>\n",
       "      <td id=\"T_652c1_row3_col1\" class=\"data row3 col1\" >16</td>\n",
       "    </tr>\n",
       "    <tr>\n",
       "      <th id=\"T_652c1_level0_row4\" class=\"row_heading level0 row4\" >4</th>\n",
       "      <td id=\"T_652c1_row4_col0\" class=\"data row4 col0\" >FC_01.weight</td>\n",
       "      <td id=\"T_652c1_row4_col1\" class=\"data row4 col1\" >32768</td>\n",
       "    </tr>\n",
       "    <tr>\n",
       "      <th id=\"T_652c1_level0_row5\" class=\"row_heading level0 row5\" >5</th>\n",
       "      <td id=\"T_652c1_row5_col0\" class=\"data row5 col0\" >FC_01.bias</td>\n",
       "      <td id=\"T_652c1_row5_col1\" class=\"data row5 col1\" >128</td>\n",
       "    </tr>\n",
       "    <tr>\n",
       "      <th id=\"T_652c1_level0_row6\" class=\"row_heading level0 row6\" >6</th>\n",
       "      <td id=\"T_652c1_row6_col0\" class=\"data row6 col0\" >FC_02.weight</td>\n",
       "      <td id=\"T_652c1_row6_col1\" class=\"data row6 col1\" >8192</td>\n",
       "    </tr>\n",
       "    <tr>\n",
       "      <th id=\"T_652c1_level0_row7\" class=\"row_heading level0 row7\" >7</th>\n",
       "      <td id=\"T_652c1_row7_col0\" class=\"data row7 col0\" >FC_02.bias</td>\n",
       "      <td id=\"T_652c1_row7_col1\" class=\"data row7 col1\" >64</td>\n",
       "    </tr>\n",
       "    <tr>\n",
       "      <th id=\"T_652c1_level0_row8\" class=\"row_heading level0 row8\" >8</th>\n",
       "      <td id=\"T_652c1_row8_col0\" class=\"data row8 col0\" >FC_03.weight</td>\n",
       "      <td id=\"T_652c1_row8_col1\" class=\"data row8 col1\" >640</td>\n",
       "    </tr>\n",
       "    <tr>\n",
       "      <th id=\"T_652c1_level0_row9\" class=\"row_heading level0 row9\" >9</th>\n",
       "      <td id=\"T_652c1_row9_col0\" class=\"data row9 col0\" >FC_03.bias</td>\n",
       "      <td id=\"T_652c1_row9_col1\" class=\"data row9 col1\" >10</td>\n",
       "    </tr>\n",
       "  </tbody>\n",
       "</table>\n"
      ],
      "text/plain": [
       "<pandas.io.formats.style.Styler at 0x1f7ae518df0>"
      ]
     },
     "execution_count": 110,
     "metadata": {},
     "output_type": "execute_result"
    }
   ],
   "source": [
    "def count_params(model):\n",
    "    model_params = {\"Modules\": list(), \"Parameters\": list()}\n",
    "    total = 0\n",
    "    for name, parameters in model.named_parameters():\n",
    "        if not parameters.requires_grad:\n",
    "            continue\n",
    "        param = parameters.numel()\n",
    "        model_params[\"Modules\"].append(name)\n",
    "        model_params[\"Parameters\"].append(param)\n",
    "        total += param\n",
    "    df = pd.DataFrame(model_params)\n",
    "    df = df.style.set_caption(f\"Total trainable parameters: {total}\")\n",
    "    return df\n",
    "\n",
    "count_params(model)"
   ]
  },
  {
   "cell_type": "markdown",
   "id": "314834b7",
   "metadata": {},
   "source": [
    "model.parameters"
   ]
  },
  {
   "cell_type": "code",
   "execution_count": 111,
   "id": "6e462c18",
   "metadata": {},
   "outputs": [
    {
     "data": {
      "text/plain": [
       "True"
      ]
     },
     "execution_count": 111,
     "metadata": {},
     "output_type": "execute_result"
    }
   ],
   "source": [
    "next(model.parameters()).is_cuda"
   ]
  },
  {
   "cell_type": "code",
   "execution_count": 112,
   "id": "3ff75aa1",
   "metadata": {},
   "outputs": [],
   "source": [
    "lr=0.001\n",
    "epochs=10\n",
    "criterion=nn.CrossEntropyLoss()\n",
    "optimizer=torch.optim.Adam(model.parameters(),lr=lr)"
   ]
  },
  {
   "cell_type": "code",
   "execution_count": 113,
   "id": "f8a6a4fd",
   "metadata": {},
   "outputs": [],
   "source": [
    "steps=len(train_data_loader)"
   ]
  },
  {
   "cell_type": "code",
   "execution_count": 100,
   "id": "a4ff2142",
   "metadata": {},
   "outputs": [
    {
     "name": "stderr",
     "output_type": "stream",
     "text": [
      "Epoch 1/10: 100%|██████████████████████████████████████████████████████████████| 938/938 [00:37<00:00, 25.02it/s, loss=0.471]\n",
      "Epoch 2/10: 100%|██████████████████████████████████████████████████████████████| 938/938 [00:42<00:00, 22.18it/s, loss=0.361]\n",
      "Epoch 3/10: 100%|██████████████████████████████████████████████████████████████| 938/938 [00:50<00:00, 18.52it/s, loss=0.344]\n",
      "Epoch 4/10: 100%|████████████████████████████████████████████████████████████████| 938/938 [00:48<00:00, 19.17it/s, loss=0.4]\n",
      "Epoch 5/10: 100%|██████████████████████████████████████████████████████████████| 938/938 [00:32<00:00, 29.20it/s, loss=0.487]\n",
      "Epoch 6/10: 100%|██████████████████████████████████████████████████████████████| 938/938 [00:15<00:00, 62.24it/s, loss=0.179]\n",
      "Epoch 7/10: 100%|██████████████████████████████████████████████████████████████| 938/938 [00:15<00:00, 60.98it/s, loss=0.214]\n",
      "Epoch 8/10: 100%|██████████████████████████████████████████████████████████████| 938/938 [00:15<00:00, 59.85it/s, loss=0.471]\n",
      "Epoch 9/10: 100%|██████████████████████████████████████████████████████████████| 938/938 [00:14<00:00, 62.95it/s, loss=0.247]\n",
      "Epoch 10/10: 100%|█████████████████████████████████████████████████████████████| 938/938 [00:13<00:00, 69.25it/s, loss=0.187]\n"
     ]
    }
   ],
   "source": [
    "for epoch in range(epochs):\n",
    "    with tqdm(train_data_loader) as tqdm_epoch:\n",
    "        for images,labels in tqdm_epoch:\n",
    "            tqdm_epoch.set_description(f\"Epoch {epoch + 1}/{epochs}\")\n",
    "            \n",
    "            images = images.to(device)\n",
    "            labels = labels.to(device)   \n",
    "            \n",
    "            outputs=model(images)\n",
    "            loss=criterion(outputs,labels)\n",
    "            \n",
    "            optimizer.zero_grad()\n",
    "            loss.backward()\n",
    "            \n",
    "            optimizer.step()\n",
    "            \n",
    "            tqdm_epoch.set_postfix(loss=loss.item())\n",
    "            \n",
    "        "
   ]
  },
  {
   "cell_type": "code",
   "execution_count": 125,
   "id": "861d718c",
   "metadata": {},
   "outputs": [],
   "source": [
    "pred = np.array([])\n",
    "target = np.array([])\n",
    "\n",
    "with torch.no_grad():\n",
    "    for batch, data in enumerate(test_data_loader):\n",
    "        image, label = data[0].to(device), data[1].to(device)\n",
    "        \n",
    "        y_pred = model(image)\n",
    "        \n",
    "        pred = np.concatenate((pred, torch.argmax(y_pred, 1).cpu().numpy()))\n",
    "        target = np.concatenate((target, label.cpu().numpy()))"
   ]
  },
  {
   "cell_type": "code",
   "execution_count": 131,
   "id": "0e7ad4ed",
   "metadata": {},
   "outputs": [
    {
     "data": {
      "text/plain": [
       "array([8., 8., 8., ..., 8., 8., 8.])"
      ]
     },
     "execution_count": 131,
     "metadata": {},
     "output_type": "execute_result"
    }
   ],
   "source": [
    "pred"
   ]
  },
  {
   "cell_type": "code",
   "execution_count": 132,
   "id": "7874f210",
   "metadata": {},
   "outputs": [],
   "source": [
    "data=next(iter(test_data_loader))\n",
    "\n"
   ]
  },
  {
   "cell_type": "code",
   "execution_count": 137,
   "id": "1774e7d8",
   "metadata": {},
   "outputs": [
    {
     "data": {
      "text/plain": [
       "Text(0.5, 1.0, 'Bag')"
      ]
     },
     "execution_count": 137,
     "metadata": {},
     "output_type": "execute_result"
    },
    {
     "data": {
      "image/png": "[encoded data removed]",
      "text/plain": [
       "<Figure size 640x480 with 1 Axes>"
      ]
     },
     "metadata": {},
     "output_type": "display_data"
    }
   ],
   "source": [
    "image,label = data\n",
    "\n",
    "img=image[0]\n",
    "img.shape\n",
    "plt.imshow(img.permute(1,2,0),cmap='gray')\n",
    "plt.title(label_map[label[0].item()])"
   ]
  },
  {
   "cell_type": "code",
   "execution_count": 152,
   "id": "bad2e8e7",
   "metadata": {},
   "outputs": [],
   "source": [
    "def predict(data,model,label,device,idx):\n",
    "    image,label=data\n",
    "    img=image[idx]\n",
    "    label=label[idx]\n",
    "    \n",
    "    plt.imshow(img.permute(1,2,0), cmap=\"gray\")\n",
    "\n",
    "    img=img.unsqueeze(1).to(device)\n",
    "    logits=model(img)\n",
    "    pred_prob=F.softmax(logits,1)\n",
    "    argmax=torch.argmax(pred_prob,1).item()\n",
    "    predicted_label=label_map[argmax]\n",
    "    actual_label = label_map[label.item()]\n",
    "    plt.title(f\"actual: {actual_label} | predicted: {predicted_label}\")\n",
    "    return predicted_label, actual_label\n"
   ]
  },
  {
   "cell_type": "code",
   "execution_count": 153,
   "id": "4e7a80ef",
   "metadata": {},
   "outputs": [
    {
     "data": {
      "text/plain": [
       "('Bag', 'Coat')"
      ]
     },
     "execution_count": 153,
     "metadata": {},
     "output_type": "execute_result"
    },
    {
     "data": {
      "image/png": "[encoded data removed]",
      "text/plain": [
       "<Figure size 640x480 with 1 Axes>"
      ]
     },
     "metadata": {},
     "output_type": "display_data"
    }
   ],
   "source": [
    "data = next(iter(test_data_loader))\n",
    "predict(data, model, label_map, device, idx=0)\n"
   ]
  },
  {
   "cell_type": "code",
   "execution_count": null,
   "id": "41cd2689",
   "metadata": {},
   "outputs": [],
   "source": []
  }
 ],
 "metadata": {
  "kernelspec": {
   "display_name": "Python 3 (ipykernel)",
   "language": "python",
   "name": "python3"
  },
  "language_info": {
   "codemirror_mode": {
    "name": "ipython",
    "version": 3
   },
   "file_extension": ".py",
   "mimetype": "text/x-python",
   "name": "python",
   "nbconvert_exporter": "python",
   "pygments_lexer": "ipython3",
   "version": "3.9.13"
  }
 },
 "nbformat": 4,
 "nbformat_minor": 5
}
